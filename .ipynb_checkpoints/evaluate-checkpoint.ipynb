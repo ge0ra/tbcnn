{
 "cells": [
  {
   "cell_type": "code",
   "execution_count": 1,
   "metadata": {},
   "outputs": [
    {
     "name": "stderr",
     "output_type": "stream",
     "text": [
      "/Volumes/Data/ge0ra/opt/anaconda3/envs/fpcnn/lib/python3.6/site-packages/tensorflow/python/framework/dtypes.py:523: FutureWarning: Passing (type, 1) or '1type' as a synonym of type is deprecated; in a future version of numpy, it will be understood as (type, (1,)) / '(1,)type'.\n",
      "  _np_qint8 = np.dtype([(\"qint8\", np.int8, 1)])\n",
      "/Volumes/Data/ge0ra/opt/anaconda3/envs/fpcnn/lib/python3.6/site-packages/tensorflow/python/framework/dtypes.py:524: FutureWarning: Passing (type, 1) or '1type' as a synonym of type is deprecated; in a future version of numpy, it will be understood as (type, (1,)) / '(1,)type'.\n",
      "  _np_quint8 = np.dtype([(\"quint8\", np.uint8, 1)])\n",
      "/Volumes/Data/ge0ra/opt/anaconda3/envs/fpcnn/lib/python3.6/site-packages/tensorflow/python/framework/dtypes.py:525: FutureWarning: Passing (type, 1) or '1type' as a synonym of type is deprecated; in a future version of numpy, it will be understood as (type, (1,)) / '(1,)type'.\n",
      "  _np_qint16 = np.dtype([(\"qint16\", np.int16, 1)])\n",
      "/Volumes/Data/ge0ra/opt/anaconda3/envs/fpcnn/lib/python3.6/site-packages/tensorflow/python/framework/dtypes.py:526: FutureWarning: Passing (type, 1) or '1type' as a synonym of type is deprecated; in a future version of numpy, it will be understood as (type, (1,)) / '(1,)type'.\n",
      "  _np_quint16 = np.dtype([(\"quint16\", np.uint16, 1)])\n",
      "/Volumes/Data/ge0ra/opt/anaconda3/envs/fpcnn/lib/python3.6/site-packages/tensorflow/python/framework/dtypes.py:527: FutureWarning: Passing (type, 1) or '1type' as a synonym of type is deprecated; in a future version of numpy, it will be understood as (type, (1,)) / '(1,)type'.\n",
      "  _np_qint32 = np.dtype([(\"qint32\", np.int32, 1)])\n",
      "/Volumes/Data/ge0ra/opt/anaconda3/envs/fpcnn/lib/python3.6/site-packages/tensorflow/python/framework/dtypes.py:532: FutureWarning: Passing (type, 1) or '1type' as a synonym of type is deprecated; in a future version of numpy, it will be understood as (type, (1,)) / '(1,)type'.\n",
      "  np_resource = np.dtype([(\"resource\", np.ubyte, 1)])\n"
     ]
    }
   ],
   "source": [
    "# Libs\n",
    "import os\n",
    "import sys\n",
    "import math\n",
    "import random\n",
    "import time\n",
    "from datetime import datetime\n",
    "import numpy as np\n",
    "import tensorflow as tf\n",
    "import matplotlib as mpl\n",
    "import matplotlib.pyplot as plt\n",
    "from sklearn.metrics import roc_curve\n",
    "#import ipdb\n",
    "\n",
    "# Own modules\n",
    "import preprocess\n",
    "import prepare_input\n",
    "import train_variants\n",
    "import net\n",
    "from deformations import elastically_deform_image_2d\n",
    "import progress\n",
    "\n",
    "\n",
    "# Constants\n",
    "SIZE = 512\n",
    "\n",
    "colors = plt.rcParams['axes.prop_cycle'].by_key()['color']"
   ]
  },
  {
   "cell_type": "code",
   "execution_count": 2,
   "metadata": {},
   "outputs": [],
   "source": [
    "# Helper functions\n",
    "def relPath(dir):\n",
    "    \"Returns path of directory relative to the executable\"\n",
    "    return os.path.join(os.getcwd(), dir)"
   ]
  },
  {
   "cell_type": "code",
   "execution_count": 3,
   "metadata": {},
   "outputs": [],
   "source": [
    "def plot_roc(name, labels, predictions, **kwargs):\n",
    "    fp, tp, thresholds = roc_curve(labels, predictions)\n",
    "    plt.plot(100*fp, 100*tp, label=name, linewidth=2, **kwargs)\n",
    "    plt.xlabel('False positives [%]')\n",
    "    plt.ylabel('True positives [%]')\n",
    "    #plt.xlim([-0.5,20])\n",
    "    #plt.ylim([80,100.5])\n",
    "    plt.grid(True)\n",
    "    ax = plt.gca()\n",
    "    ax.set_aspect('equal')"
   ]
  },
  {
   "cell_type": "code",
   "execution_count": 4,
   "metadata": {},
   "outputs": [
    {
     "name": "stdout",
     "output_type": "stream",
     "text": [
      "Preprocessing...\n",
      "Preparing input...\n",
      "Input was already prepared\n",
      "INFO:tensorflow:Restoring parameters from /Volumes/Data/ge0ra/Documents/Cours/Master/_MSc_TB/Source_code/tbcnn/checkpoints/model.ckpt\n",
      "Accuracy: 0.429 | AUC: 0.529\n"
     ]
    }
   ],
   "source": [
    "# Crop and resize images\n",
    "# This expects the images to be saved in the data folder\n",
    "# Extract 1/4 more for cropping augmentation\n",
    "print('Preprocessing...')\n",
    "preprocess.preprocess(relPath('data'), relPath('preprocessed'), size=int(SIZE*1.1))\n",
    "\n",
    "# Prepare input: convert to float with unit variance and zero mean,\n",
    "# extract labels and save everything as a big numpy array to be used for training\n",
    "print('Preparing input...')\n",
    "prepare_input.prepare(relPath('preprocessed'), relPath('input'))\n",
    "\n",
    "# Load data\n",
    "images = np.load(relPath('input') + '.npy', mmap_mode='r')\n",
    "labels = np.load(relPath('input') + '_labels.npy', mmap_mode='r')\n",
    "\n",
    "# Create training and test sets\n",
    "training, test = train_variants.split_train_and_test(images, labels)\n",
    "test_images, test_labels = test\n",
    "\n",
    "# Crop center from test images\n",
    "border = (test_images.shape[1] - SIZE) // 2\n",
    "test_images = test_images[:,border:border+SIZE, border:border+SIZE]\n",
    "\n",
    "run_name = datetime.now().strftime(r'%Y-%m-%d_%H:%M')\n",
    "\n",
    "# Create network\n",
    "inp_var, labels_var, output = net.generate_network(SIZE)\n",
    "error_fn, train_fn, metrics = net.generate_functions(inp_var, labels_var, output)\n",
    "\n",
    "config = tf.ConfigProto()\n",
    "#config.gpu_options.allow_growth = True\n",
    "\n",
    "with tf.Session() as sess:\n",
    "\n",
    "    # Restore all the variables.\n",
    "    saver = tf.train.Saver()\n",
    "    currentDirectory = os.getcwd()\n",
    "    saver.restore(sess, currentDirectory + \"/checkpoints/model.ckpt\")\n",
    "\n",
    "    # Initialize accuracy calculation\n",
    "    sess.run(tf.local_variables_initializer())\n",
    "    sess.run(tf.global_variables_initializer())\n",
    "\n",
    "    # Get needed functions\n",
    "    accuracy_fn, accuracy_update = metrics['accuracy']\n",
    "    auc_fn, auc_update = metrics['AUC']\n",
    "    fp_fn, fp_update = metrics['fp']\n",
    "    tp_fn, tp_update = metrics['tp']\n",
    "\n",
    "    # Accuracy on test\n",
    "    for ti, (img, lab) in enumerate(zip(test_images, test_labels)):\n",
    "        sess.run([accuracy_update, auc_update], {\n",
    "            'input:0': img.reshape(1, SIZE, SIZE, -1),\n",
    "            'labels:0': [lab],\n",
    "        })\n",
    "\n",
    "        print('Test image {} / {}'.format(ti + 1, len(test_images)), end='\\r')\n",
    "    \n",
    "    # Compute test metrics\n",
    "    test_accuracy = sess.run(accuracy_fn)\n",
    "    test_auc = sess.run(auc_fn)\n",
    "    test_fp = sess.run(fp_fn)\n",
    "    test_tp = sess.run(tp_fn)\n",
    "    sess.run(output)\n",
    "    #plot_roc(\"Test Baseline\", test_labels, output['classes'], color=colors[0], linestyle='--')\n",
    "\n",
    "    # Print progress\n",
    "    print(\n",
    "        'Accuracy: {:>5.3f} | AUC: {:>5.3f}'\n",
    "            .format(test_accuracy, test_auc)\n",
    "    )"
   ]
  },
  {
   "cell_type": "code",
   "execution_count": null,
   "metadata": {},
   "outputs": [],
   "source": []
  },
  {
   "cell_type": "code",
   "execution_count": null,
   "metadata": {},
   "outputs": [],
   "source": []
  }
 ],
 "metadata": {
  "kernelspec": {
   "display_name": "Python 3",
   "language": "python",
   "name": "python3"
  },
  "language_info": {
   "codemirror_mode": {
    "name": "ipython",
    "version": 3
   },
   "file_extension": ".py",
   "mimetype": "text/x-python",
   "name": "python",
   "nbconvert_exporter": "python",
   "pygments_lexer": "ipython3",
   "version": "3.6.10"
  }
 },
 "nbformat": 4,
 "nbformat_minor": 4
}
